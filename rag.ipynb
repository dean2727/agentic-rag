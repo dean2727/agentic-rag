{
 "cells": [
  {
   "cell_type": "code",
   "execution_count": null,
   "metadata": {},
   "outputs": [],
   "source": [
    "!pip install streamlit chromadb"
   ]
  },
  {
   "cell_type": "code",
   "execution_count": 12,
   "metadata": {},
   "outputs": [],
   "source": [
    "from langchain_openai import OpenAIEmbeddings\n",
    "from langchain_community.vectorstores import Chroma\n",
    "from langchain_core.messages import HumanMessage, AIMessage, ToolMessage\n",
    "from langchain.text_splitter import RecursiveCharacterTextSplitter\n",
    "from langgraph.graph import END, StateGraph, START\n",
    "from langgraph.prebuilt import ToolNode\n",
    "from langgraph.graph.message import add_messages\n",
    "from typing_extensions import TypedDict, Annotated\n",
    "from typing import Sequence\n",
    "from langchain_openai import OpenAIEmbeddings\n",
    "import re\n",
    "import os\n",
    "import streamlit as st\n",
    "import requests\n",
    "from langchain.tools.retriever import create_retriever_tool\n",
    "import chromadb"
   ]
  },
  {
   "cell_type": "code",
   "execution_count": 1,
   "metadata": {},
   "outputs": [
    {
     "data": {
      "text/plain": [
       "True"
      ]
     },
     "execution_count": 1,
     "metadata": {},
     "output_type": "execute_result"
    }
   ],
   "source": [
    "from dotenv import load_dotenv\n",
    "load_dotenv('.env')"
   ]
  },
  {
   "cell_type": "code",
   "execution_count": 4,
   "metadata": {},
   "outputs": [],
   "source": [
    "openai_api_key = os.getenv(\"OPENAI_API_KEY\")\n",
    "deepseek_api_key = os.getenv(\"DEEPSEEK_API_KEY\")"
   ]
  },
  {
   "cell_type": "code",
   "execution_count": 8,
   "metadata": {},
   "outputs": [],
   "source": [
    "# Create Dummy Data\n",
    "research_texts = [\n",
    "    \"Research Report: Results of a New AI Model Improving Image Recognition Accuracy to 98%\",\n",
    "    \"Academic Paper Summary: Why Transformers Became the Mainstream Architecture in Natural Language Processing\",\n",
    "    \"Latest Trends in Machine Learning Methods Using Quantum Computing\"\n",
    "]\n",
    "\n",
    "development_texts = [\n",
    "    \"Project A: UI Design Completed, API Integration in Progress\",\n",
    "    \"Project B: Testing New Feature X, Bug Fixes Needed\",\n",
    "    \"Product Y: In the Performance Optimization Stage Before Release\"\n",
    "]"
   ]
  },
  {
   "cell_type": "markdown",
   "metadata": {},
   "source": [
    "Let’s process the data by splitting it into smaller parts, converting it into document objects, and then creating vector embeddings."
   ]
  },
  {
   "cell_type": "code",
   "execution_count": 13,
   "metadata": {},
   "outputs": [],
   "source": [
    "# Create a retriever of type BaseRetriever, from the dummy data\n",
    "def create_retriever(texts):\n",
    "    text_splitter = RecursiveCharacterTextSplitter(chunk_size=100, chunk_overlap=0)\n",
    "    docs = text_splitter.create_documents(texts)\n",
    "    return Chroma.from_documents(docs, OpenAIEmbeddings()).as_retriever()\n",
    "\n",
    "research_retriever = create_retriever(research_texts)\n",
    "development_retriever = create_retriever(development_texts)"
   ]
  },
  {
   "cell_type": "code",
   "execution_count": 14,
   "metadata": {},
   "outputs": [],
   "source": [
    "research_tool = create_retriever_tool(\n",
    "    research_retriever,  # Retriever object\n",
    "    \"research_db_tool\",  # Name of the tool to create\n",
    "    \"Search information from the research database.\"  # Description of the tool\n",
    ")\n",
    "\n",
    "development_tool = create_retriever_tool(\n",
    "    development_retriever,\n",
    "    \"development_db_tool\",\n",
    "    \"Search information from the development database.\"\n",
    ")\n",
    "\n",
    "# Combine the created research and development tools into a list\n",
    "tools = [research_tool, development_tool]"
   ]
  }
 ],
 "metadata": {
  "kernelspec": {
   "display_name": "oai",
   "language": "python",
   "name": "python3"
  },
  "language_info": {
   "codemirror_mode": {
    "name": "ipython",
    "version": 3
   },
   "file_extension": ".py",
   "mimetype": "text/x-python",
   "name": "python",
   "nbconvert_exporter": "python",
   "pygments_lexer": "ipython3",
   "version": "3.12.9"
  }
 },
 "nbformat": 4,
 "nbformat_minor": 2
}
